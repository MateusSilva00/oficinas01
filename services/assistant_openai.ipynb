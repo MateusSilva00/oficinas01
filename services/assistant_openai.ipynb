{
 "cells": [
  {
   "cell_type": "code",
   "execution_count": 76,
   "metadata": {},
   "outputs": [
    {
     "name": "stdout",
     "output_type": "stream",
     "text": [
      "pygame 2.6.1 (SDL 2.28.4, Python 3.12.3)\n",
      "Hello from the pygame community. https://www.pygame.org/contribute.html\n"
     ]
    }
   ],
   "source": [
    "import logging\n",
    "import os\n",
    "from dotenv import load_dotenv\n",
    "from openai import OpenAI\n",
    "import pygame\n",
    "\n",
    "\n",
    "load_dotenv(override=True)\n",
    "\n",
    "OPENAI_API_KEY = os.environ[\"OPENAI_KEY\"]\n",
    "\n",
    "\n",
    "INSTRUCTIONS = \"\"\"\n",
    "Você é uma elegante assistente virtual chamada Zoey\n",
    "\n",
    "Você estará embutida em um espelho inteligente, portanto você deverá ser agradável e sempre fazer muitos elogios a aparência do usuário William Chakur\n",
    "\n",
    "Tente ser direta e clara e demonstre um genuíno interesse pelo seu capitão. \n",
    "\n",
    "Não utilize emojis, ** e ## em suas respostas.\n",
    "Seja o mais breve possível em suas respostas para que seja possível você responder em aúdios curtos\n",
    "\n",
    "Se a pessoa falar algo que vocé não entende, responda \"Desculpe, eu não entendi o que vocé disse. Poderia repetir o que vocé disse?\"\n",
    "\"\"\"\n",
    "MODEL = \"gpt-4o-mini\"\n",
    "\n",
    "client = OpenAI(api_key=OPENAI_API_KEY)\n",
    "\n",
    "\n",
    "class PersonalAssistant:\n",
    "    def __init__(self, username: str):\n",
    "        self.username = username\n",
    "        self.assistant_id = self.create_assistant()\n",
    "        self.thread_id = self.create_thread()\n",
    "\n",
    "        logging.debug(\n",
    "            f\"\"\"\n",
    "            Assistant id: {self.assistant_id}\n",
    "            Thread id: {self.thread_id}\n",
    "            Username: {self.username}\n",
    "            \"\"\"\n",
    "        )\n",
    "\n",
    "    def create_assistant(self):\n",
    "        assistant = client.beta.assistants.create(\n",
    "            name=\"Personal Trainer\",\n",
    "            instructions=INSTRUCTIONS,\n",
    "            model=MODEL,\n",
    "            temperature=0.7,\n",
    "        )\n",
    "\n",
    "        return assistant.id\n",
    "\n",
    "    def create_thread(self):\n",
    "        thread = client.beta.threads.create()\n",
    "\n",
    "        return thread.id\n",
    "\n",
    "    def create_run(self):\n",
    "        run = client.beta.threads.runs.create(\n",
    "            thread_id=self.thread_id,\n",
    "            assistant_id=self.assistant_id,\n",
    "            instructions=f\"Por favor me chame de {self.username}\",\n",
    "        )\n",
    "\n",
    "        return run.id\n",
    "\n",
    "    def input_message(self, message: str):\n",
    "\n",
    "        response = client.beta.threads.messages.create(\n",
    "            thread_id=self.thread_id,\n",
    "            role=\"user\",\n",
    "            content=message,\n",
    "        )\n",
    "\n",
    "        self.run_id = self.create_run()\n",
    "        self.last_message_id = response.id\n",
    "\n",
    "    def get_response_message(self):\n",
    "        while True:\n",
    "            run = client.beta.threads.runs.retrieve(thread_id=self.thread_id, run_id=self.run_id)\n",
    "            if run.completed_at:\n",
    "                messages = client.beta.threads.messages.list(thread_id=self.thread_id, limit=1)\n",
    "                last_message = messages.data[0]\n",
    "                assistant_response = last_message.content[0].text.value\n",
    "                return assistant_response\n",
    "\n",
    "    def get_output_audio(self, message: str):\n",
    "        speech_file_path = \"audios/speech.mp3\"\n",
    "\n",
    "        if not os.path.exists(\"audios\"):\n",
    "            os.makedirs(\"audios\")\n",
    "\n",
    "        response = client.audio.speech.create(\n",
    "            model=\"tts-1\",\n",
    "            voice=\"nova\",\n",
    "            input=message\n",
    "        )\n",
    "\n",
    "        response.stream_to_file(speech_file_path)\n",
    "        pygame.mixer.init()\n",
    "\n",
    "        pygame.mixer.music.load(speech_file_path)\n",
    "        pygame.mixer.music.play()\n",
    "\n",
    "        while pygame.mixer.music.get_busy():\n",
    "            pygame.time.Clock().tick(\n",
    "                10\n",
    "            )  # Aguarda um pequeno intervalo para verificar novamente"
   ]
  },
  {
   "cell_type": "code",
   "execution_count": 77,
   "metadata": {},
   "outputs": [],
   "source": [
    "assistant = PersonalAssistant(username=\"Mateus Silva\")"
   ]
  },
  {
   "cell_type": "code",
   "execution_count": 79,
   "metadata": {},
   "outputs": [
    {
     "name": "stderr",
     "output_type": "stream",
     "text": [
      "/tmp/ipykernel_18524/2764035754.py:100: DeprecationWarning: Due to a bug, this method doesn't actually stream the response content, `.with_streaming_response.method()` should be used instead\n",
      "  response.stream_to_file(speech_file_path)\n"
     ]
    },
    {
     "ename": "error",
     "evalue": "dsp: No such audio device",
     "output_type": "error",
     "traceback": [
      "\u001b[0;31m---------------------------------------------------------------------------\u001b[0m",
      "\u001b[0;31merror\u001b[0m                                     Traceback (most recent call last)",
      "Cell \u001b[0;32mIn[79], line 4\u001b[0m\n\u001b[1;32m      1\u001b[0m assistant\u001b[38;5;241m.\u001b[39minput_message(\u001b[38;5;124m\"\u001b[39m\u001b[38;5;124mEu te amo\u001b[39m\u001b[38;5;124m\"\u001b[39m)\n\u001b[1;32m      2\u001b[0m response \u001b[38;5;241m=\u001b[39m assistant\u001b[38;5;241m.\u001b[39mget_response_message()\n\u001b[0;32m----> 4\u001b[0m \u001b[43massistant\u001b[49m\u001b[38;5;241;43m.\u001b[39;49m\u001b[43mget_output_audio\u001b[49m\u001b[43m(\u001b[49m\u001b[43mresponse\u001b[49m\u001b[43m)\u001b[49m\n",
      "Cell \u001b[0;32mIn[76], line 101\u001b[0m, in \u001b[0;36mPersonalAssistant.get_output_audio\u001b[0;34m(self, message)\u001b[0m\n\u001b[1;32m     94\u001b[0m response \u001b[38;5;241m=\u001b[39m client\u001b[38;5;241m.\u001b[39maudio\u001b[38;5;241m.\u001b[39mspeech\u001b[38;5;241m.\u001b[39mcreate(\n\u001b[1;32m     95\u001b[0m     model\u001b[38;5;241m=\u001b[39m\u001b[38;5;124m\"\u001b[39m\u001b[38;5;124mtts-1\u001b[39m\u001b[38;5;124m\"\u001b[39m,\n\u001b[1;32m     96\u001b[0m     voice\u001b[38;5;241m=\u001b[39m\u001b[38;5;124m\"\u001b[39m\u001b[38;5;124mnova\u001b[39m\u001b[38;5;124m\"\u001b[39m,\n\u001b[1;32m     97\u001b[0m     \u001b[38;5;28minput\u001b[39m\u001b[38;5;241m=\u001b[39mmessage\n\u001b[1;32m     98\u001b[0m )\n\u001b[1;32m    100\u001b[0m response\u001b[38;5;241m.\u001b[39mstream_to_file(speech_file_path)\n\u001b[0;32m--> 101\u001b[0m \u001b[43mpygame\u001b[49m\u001b[38;5;241;43m.\u001b[39;49m\u001b[43mmixer\u001b[49m\u001b[38;5;241;43m.\u001b[39;49m\u001b[43minit\u001b[49m\u001b[43m(\u001b[49m\u001b[43m)\u001b[49m\n\u001b[1;32m    103\u001b[0m pygame\u001b[38;5;241m.\u001b[39mmixer\u001b[38;5;241m.\u001b[39mmusic\u001b[38;5;241m.\u001b[39mload(speech_file_path)\n\u001b[1;32m    104\u001b[0m pygame\u001b[38;5;241m.\u001b[39mmixer\u001b[38;5;241m.\u001b[39mmusic\u001b[38;5;241m.\u001b[39mplay()\n",
      "\u001b[0;31merror\u001b[0m: dsp: No such audio device"
     ]
    }
   ],
   "source": [
    "assistant.input_message(\"Eu te amo\")\n",
    "response = assistant.get_response_message()\n",
    "\n",
    "assistant.get_output_audio(response)"
   ]
  }
 ],
 "metadata": {
  "kernelspec": {
   "display_name": ".venv",
   "language": "python",
   "name": "python3"
  },
  "language_info": {
   "codemirror_mode": {
    "name": "ipython",
    "version": 3
   },
   "file_extension": ".py",
   "mimetype": "text/x-python",
   "name": "python",
   "nbconvert_exporter": "python",
   "pygments_lexer": "ipython3",
   "version": "3.12.3"
  }
 },
 "nbformat": 4,
 "nbformat_minor": 2
}
